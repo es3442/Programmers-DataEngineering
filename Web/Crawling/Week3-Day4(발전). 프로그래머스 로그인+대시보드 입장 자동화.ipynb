{
 "cells": [
  {
   "cell_type": "markdown",
   "metadata": {},
   "source": [
    "# [Week3-방과후 학습] 프로그래머스 로그인하여 대시보드까지 자동으로 입장해주는 자동화 프로그램\n",
    "\n",
    "오늘 학습한 내용을 바탕으로 자동화 프로그램을 구현해 보자\n",
    "- 프로그래머스 로그인\n",
    "- 버튼들을 클릭하여 데이터엔지니어링 강의 대시보드 진입"
   ]
  },
  {
   "cell_type": "code",
   "execution_count": null,
   "metadata": {},
   "outputs": [],
   "source": [
    "# 스크래핑에 필요한 라이브러리를 불러와봅시다.\n",
    "from selenium import webdriver\n",
    "from selenium.webdriver import ActionChains\n",
    "from webdriver_manager.chrome import ChromeDriverManager\n",
    "from selenium.webdriver.common.actions.action_builder import ActionBuilder\n",
    "from selenium.webdriver import Keys, ActionChains\n",
    "from selenium.webdriver.chrome.service import Service\n",
    "from selenium.webdriver.common.by import By"
   ]
  },
  {
   "cell_type": "code",
   "execution_count": 4,
   "metadata": {},
   "outputs": [
    {
     "name": "stdout",
     "output_type": "stream",
     "text": [
      "User-Agent: *\n",
      "\n",
      "Disallow: /users\n",
      "Disallow: /managers\n",
      "Disallow: /cable\n",
      "Disallow: /admin\n",
      "Disallow: /start_trial\n",
      "Disallow: /pr/*\n",
      "Allow: /\n",
      "\n",
      "Sitemap: https://programmers.co.kr/sitemaps/sitemap.xml\n",
      "\n"
     ]
    }
   ],
   "source": [
    "# requests 모듈을 불러온 후, 다음 웹사이트에 대한 robots.txt 정책을 확인해봅시다.\n",
    "# https://www.naver.com\n",
    "import requests\n",
    "res=requests.get(\"https://programmers.co.kr/robots.txt\")\n",
    "print(res.text)"
   ]
  },
  {
   "cell_type": "code",
   "execution_count": 19,
   "metadata": {},
   "outputs": [],
   "source": [
    "# driver를 이용해 해당 사이트에 요청을 보내봅시다.\n",
    "from selenium.webdriver.support import expected_conditions as EC\n",
    "# Explicit Wait를 활용해서 스크래핑이 잘 이루어지도록 코드를 작성해봅시다.\n",
    "from selenium.webdriver.support.ui import WebDriverWait\n",
    "driver=webdriver.Chrome(service=Service(ChromeDriverManager().install()))\n",
    "driver.get(\"https://programmers.co.kr/account/sign_in\")\n",
    "\n",
    "# \"아이디\" input 요소에 여러분의 아이디를 입력합니다.\n",
    "id=\"자신의id\"\n",
    "password=\"자신의password\"\n",
    "# \"패스워드\" input 요소에 여러분의 비밀번호를 입력합니다.\n",
    "id_input=WebDriverWait(driver, 10).until(EC.presence_of_element_located((By.XPATH, '//*[@id=\"main-app-account\"]/div/div[2]/div/div[2]/div[1]/div/div[2]/div[2]/input')))\n",
    "ActionChains(driver).send_keys_to_element(id_input, id).perform()\n",
    "password_input=WebDriverWait(driver, 10).until(EC.presence_of_element_located((By.XPATH, '//*[@id=\"main-app-account\"]/div/div[2]/div/div[2]/div[1]/div/div[2]/div[4]/input')))\n",
    "ActionChains(driver).send_keys_to_element(password_input, password).perform()\n",
    "\n",
    "# \"로그인\" 버튼을 눌러서 로그인을 완료합니다.\n",
    "button=WebDriverWait(driver, 10).until(EC.presence_of_element_located((By.XPATH,'//*[@id=\"main-app-account\"]/div/div[2]/div/div[2]/div[1]/div/div[2]/button')))\n",
    "ActionChains(driver).click(button).perform()\n",
    "\n",
    "# 수강중인 강의 클릭-데이터 엔지니어링 클릭\n",
    "# time.sleep(2)\n",
    "sugang=WebDriverWait(driver, 10).until(EC.presence_of_element_located((By.XPATH, '//*[@id=\"main-app-root\"]/div/div[1]/header/div[2]/nav[1]/ul/li[3]')))\n",
    "ActionChains(driver).click(sugang).perform()\n",
    "data_engineering=WebDriverWait(driver, 10).until(EC.presence_of_element_located((By.XPATH,'//*[@id=\"edu-app-my-courses\"]/div/main/div/div[3]/div[1]/div[2]/div/a')))\n",
    "ActionChains(driver).click(data_engineering).perform()\n"
   ]
  }
 ],
 "metadata": {
  "kernelspec": {
   "display_name": "Python 3",
   "language": "python",
   "name": "python3"
  },
  "language_info": {
   "codemirror_mode": {
    "name": "ipython",
    "version": 3
   },
   "file_extension": ".py",
   "mimetype": "text/x-python",
   "name": "python",
   "nbconvert_exporter": "python",
   "pygments_lexer": "ipython3",
   "version": "3.9.6"
  }
 },
 "nbformat": 4,
 "nbformat_minor": 2
}
