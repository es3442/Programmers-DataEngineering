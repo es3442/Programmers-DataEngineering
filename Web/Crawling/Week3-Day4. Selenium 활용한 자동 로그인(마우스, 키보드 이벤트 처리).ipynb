{
 "cells": [
  {
   "cell_type": "markdown",
   "id": "192778f5-b6a0-458f-9d28-2ecd531975a1",
   "metadata": {},
   "source": [
    "# [Week3] Day4. Selenium 활용하여 자동 로그인 수행\n",
    "- 마우스 이벤트\n",
    "- 키보드 이벤트"
   ]
  },
  {
   "cell_type": "markdown",
   "id": "21cda704-06c6-4de4-83a7-f77fbeec5728",
   "metadata": {},
   "source": [
    "### Target: 해시코드 로그인하기\n",
    "\n",
    "다음 사이트에 Selenium을 이용해서 로그인을 진행해봅시다 : https://hashcode.co.kr "
   ]
  },
  {
   "cell_type": "code",
   "execution_count": 1,
   "id": "e1e6514c",
   "metadata": {},
   "outputs": [],
   "source": [
    "# 스크래핑에 필요한 라이브러리를 불러와봅시다.\n",
    "\n",
    "from selenium import webdriver\n",
    "from selenium.webdriver import ActionChains\n",
    "from webdriver_manager.chrome import ChromeDriverManager\n",
    "from selenium.webdriver.common.actions.action_builder import ActionBuilder\n",
    "from selenium.webdriver import Keys, ActionChains\n",
    "from selenium.webdriver.chrome.service import Service\n",
    "from selenium.webdriver.common.by import By\n",
    "# driver를 이용해 해당 사이트에 요청을 보내봅시다.\n",
    "from selenium.webdriver.support import expected_conditions as EC\n",
    "# Explicit Wait를 활용해서 스크래핑이 잘 이루어지도록 코드를 작성해봅시다.\n",
    "from selenium.webdriver.support.ui import WebDriverWait\n",
    "\n",
    "driver=webdriver.Chrome(service=Service(ChromeDriverManager().install()))\n",
    "driver.get(\"https://hashcode.co.kr\")\n"
   ]
  },
  {
   "cell_type": "markdown",
   "id": "bd22b243-a896-451f-8c89-0423400e5923",
   "metadata": {},
   "source": [
    "### 1) 로그인 버튼 클릭"
   ]
  },
  {
   "cell_type": "code",
   "execution_count": 2,
   "id": "80b21410-4429-470b-b7ab-a632cae667e6",
   "metadata": {},
   "outputs": [],
   "source": [
    "# 내비게이션 바에서 \"로그인\" 버튼을 찾아 눌러봅시다.\n",
    "button=driver.find_element(By.XPATH, '//*[@id=\"main-app-header\"]/header/section/div/div/div/a[1]')\n",
    "ActionChains(driver).click(button).perform()"
   ]
  },
  {
   "cell_type": "markdown",
   "id": "19ea803f",
   "metadata": {},
   "source": [
    "### 2) 아이디, 패스워드 입력"
   ]
  },
  {
   "cell_type": "code",
   "execution_count": null,
   "id": "1d5efd4f",
   "metadata": {},
   "outputs": [],
   "source": [
    "# \"아이디\" input 요소에 여러분의 아이디를 입력합니다.\n",
    "id_input=WebDriverWait(driver, 10).until(EC.presence_of_element_located((By.XPATH, '//*[@id=\"main-app-account\"]/div/div[2]/div/div[2]/div[1]/div/div[2]/div[2]/input')))\n",
    "ActionChains(driver).send_keys_to_element(id_input, \"자신의 id문자열\").perform()\n",
    "# \"패스워드\" input 요소에 여러분의 비밀번호를 입력합니다.\n",
    "password_input=WebDriverWait(driver, 10).until(EC.presence_of_element_located((By.XPATH, '//*[@id=\"main-app-account\"]/div/div[2]/div/div[2]/div[1]/div/div[2]/div[4]/input')))\n",
    "ActionChains(driver).send_keys_to_element(password_input, \"자신의 password문자열\").perform()"
   ]
  },
  {
   "cell_type": "markdown",
   "id": "56a2b01e",
   "metadata": {},
   "source": [
    "### 3) 로그인 버튼 클릭"
   ]
  },
  {
   "cell_type": "code",
   "execution_count": null,
   "id": "37c7567f",
   "metadata": {},
   "outputs": [],
   "source": [
    "# \"로그인\" 버튼을 눌러서 로그인을 완료합니다.\n",
    "button=WebDriverWait(driver, 10).until(EC.presence_of_element_located((By.XPATH,'//*[@id=\"main-app-account\"]/div/div[2]/div/div[2]/div[1]/div/div[2]/button')))\n",
    "ActionChains(driver).click(button).perform()"
   ]
  }
 ],
 "metadata": {
  "kernelspec": {
   "display_name": "Python 3 (ipykernel)",
   "language": "python",
   "name": "python3"
  },
  "language_info": {
   "codemirror_mode": {
    "name": "ipython",
    "version": 3
   },
   "file_extension": ".py",
   "mimetype": "text/x-python",
   "name": "python",
   "nbconvert_exporter": "python",
   "pygments_lexer": "ipython3",
   "version": "3.9.6"
  }
 },
 "nbformat": 4,
 "nbformat_minor": 5
}
