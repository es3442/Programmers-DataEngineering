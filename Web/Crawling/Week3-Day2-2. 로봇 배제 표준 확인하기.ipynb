{
 "cells": [
  {
   "cell_type": "markdown",
   "id": "7a3d0960-4660-43a5-9953-d9855d46bee4",
   "metadata": {},
   "source": [
    "# [Week3] Day2-2. 로봇 배제 표준 확인하기\n",
    "\n",
    "- 올바르게 웹 스크래핑/크롤링을 진행하는 데에 도움을 주는 `robots.txt`에 대해서 알아봅시다."
   ]
  },
  {
   "cell_type": "markdown",
   "id": "3ee5b082-e080-4393-a3c8-a2c1e629203d",
   "metadata": {},
   "source": [
    "### robots.txt?\n",
    "\n",
    "**robots.txt는 웹 사이트 및 웹 페이지를 수집하는 로봇들의 무단 접근을 방지하기 위해 만들어진 로봇 배제 표준(robots exclusion standard)이자 국제 권고안입니다.**\n",
    "  \n",
    "일부 스팸 봇이나 악성 목적을 지닌 가짜 클라이언트 로봇은 웹 사이트에 진짜 클라이언트처럼 접근합니다. 그리고 무단으로 웹 사이트 정보를 긁어가거나, 웹 서버에 부하를 줍니다.  \n",
    "이런 로봇들의 무분별한 접근을 통제하기 위해 마련된 것이 robots.txt입니다."
   ]
  },
  {
   "cell_type": "markdown",
   "id": "6db3f86a-159b-47ff-969b-ef608df2d6c8",
   "metadata": {},
   "source": [
    "### robots.txt 가져오기\n",
    "\n",
    "robots.txt는 웹 페이지의 메인 주소에 '/robots.txt'를 입력하면 확인 할 수 있습니다. 예를 들어 naver의 경우에는 www.naver.com/robots.txt 를 입력하면 됩니다.  "
   ]
  },
  {
   "cell_type": "code",
   "execution_count": 8,
   "id": "a3c9cbaa",
   "metadata": {},
   "outputs": [
    {
     "name": "stdout",
     "output_type": "stream",
     "text": [
      "Requirement already satisfied: requests in c:\\users\\es344\\appdata\\local\\programs\\python\\python39\\lib\\site-packages (2.25.1)\n",
      "Requirement already satisfied: idna<3,>=2.5 in c:\\users\\es344\\appdata\\local\\programs\\python\\python39\\lib\\site-packages (from requests) (2.10)\n",
      "Requirement already satisfied: urllib3<1.27,>=1.21.1 in c:\\users\\es344\\appdata\\local\\programs\\python\\python39\\lib\\site-packages (from requests) (1.26.4)\n",
      "Requirement already satisfied: chardet<5,>=3.0.2 in c:\\users\\es344\\appdata\\local\\programs\\python\\python39\\lib\\site-packages (from requests) (4.0.0)\n",
      "Requirement already satisfied: certifi>=2017.4.17 in c:\\users\\es344\\appdata\\local\\programs\\python\\python39\\lib\\site-packages (from requests) (2021.10.8)\n",
      "Note: you may need to restart the kernel to use updated packages.\n"
     ]
    },
    {
     "name": "stderr",
     "output_type": "stream",
     "text": [
      "\n",
      "[notice] A new release of pip is available: 23.0 -> 23.3.1\n",
      "[notice] To update, run: python.exe -m pip install --upgrade pip\n"
     ]
    }
   ],
   "source": [
    "%pip install requests"
   ]
  },
  {
   "cell_type": "code",
   "execution_count": 1,
   "id": "0841a0e1-bd44-44c3-a532-a7eb04d6b8b6",
   "metadata": {},
   "outputs": [
    {
     "data": {
      "text/plain": [
       "<Response [200]>"
      ]
     },
     "execution_count": 1,
     "metadata": {},
     "output_type": "execute_result"
    }
   ],
   "source": [
    "# requests 모듈을 불러온 후, 다음 웹사이트에 대한 robots.txt 정책을 확인해봅시다.\n",
    "# https://www.naver.com\n",
    "import requests\n",
    "res=requests.get(\"https://www.naver.com/robots.txt\")\n",
    "res"
   ]
  },
  {
   "cell_type": "code",
   "execution_count": 14,
   "id": "0f93c304",
   "metadata": {},
   "outputs": [
    {
     "name": "stdout",
     "output_type": "stream",
     "text": [
      "User-agent: *\n",
      "Disallow: /\n",
      "Allow : /$ \n",
      "\n"
     ]
    },
    {
     "ename": "",
     "evalue": "",
     "output_type": "error",
     "traceback": [
      "\u001b[1;31mThe Kernel crashed while executing code in the the current cell or a previous cell. Please review the code in the cell(s) to identify a possible cause of the failure. Click <a href='https://aka.ms/vscodeJupyterKernelCrash'>here</a> for more info. View Jupyter <a href='command:jupyter.viewOutput'>log</a> for further details."
     ]
    }
   ],
   "source": [
    "print(res.text)"
   ]
  },
  {
   "cell_type": "markdown",
   "id": "f348b1f6-1600-43e8-b861-c598b50a0eb3",
   "metadata": {},
   "source": [
    "어떤 정보가 반환되었네요! 이를 한편 살펴봅시다.\n",
    "\n",
    "- 'User-agent' : 규칙이 적용되는 대상 사용자 에이전트\n",
    "- 'Disallow' : 크롤링을 금지할 웹 페이지\n",
    "- 'Allow' : 크롤링을 허용할 웹 페이지\n",
    "\n",
    "자세한 규약은 robots.txt [공식 홈페이지](\"www.robotstxt.org\")를 참조해주세요."
   ]
  },
  {
   "cell_type": "markdown",
   "id": "513b904d",
   "metadata": {},
   "source": [
    "### Exercise: 여러분이 자주 사용하시는 사이트의 robots.txt도 확인해봅시다!"
   ]
  },
  {
   "cell_type": "code",
   "execution_count": 11,
   "id": "34dfe905-471e-4965-b624-8d87dd22ba89",
   "metadata": {},
   "outputs": [
    {
     "name": "stdout",
     "output_type": "stream",
     "text": [
      "<!DOCTYPE html><html><head><meta charSet=\"utf-8\"/><meta name=\"robots\" content=\"index,follow\"/><meta name=\"description\" content=\"모든 사람이 자유롭고 행복하게 이동하는 세상을 만듭니다.\"/><meta property=\"og:title\" content=\"모빌리티 혁신 플랫폼, (주)쏘카\"/><meta property=\"og:description\" content=\"모든 사람이 자유롭고 행복하게 이동하는 세상을 만듭니다.\"/><meta property=\"og:url\" content=\"https://www.socarcorp.kr\"/><meta property=\"og:type\" content=\"website\"/><meta property=\"og:image\" content=\"https://www.socarcorp.kr/images/about/og_about.png\"/><meta property=\"og:image:width\" content=\"1200\"/><meta property=\"og:image:height\" content=\"630\"/><meta property=\"og:locale\" content=\"ko_KR\"/><meta property=\"og:site_name\" content=\"모빌리티 혁신 플랫폼, (주)쏘카\"/><meta name=\"viewport\" content=\"initial-scale=1.0, width=device-width, minimal-ui\"/><meta name=\"naver-site-verification\" content=\"44a1d8cd983a7a78f18a6938cafade722dc0922a\"/><meta name=\"google-site-verification\" content=\"C8rbonKOxS7nzoectteVjzYjAhppKiKEZZ0VCHIacU0\"/><title>모빌리티 혁신 플랫폼, (주)쏘카</title><meta name=\"next-head-count\" content=\"16\"/><link rel=\"shortcut icon\" type=\"image/x-icon\" href=\"favicon.ico\"/><link rel=\"icon\" type=\"image/png\" sizes=\"16x16\" href=\"images/favicons/favicon-16x16.png\"/><link rel=\"icon\" type=\"image/png\" sizes=\"32x32\" href=\"images/favicons/favicon-32x32.png\"/><link rel=\"apple-touch-icon\" sizes=\"114x114\" href=\"images/favicons/apple-touch-icon.png\"/><link rel=\"apple-touch-icon\" href=\"images/favicons/apple-touch-icon.png\"/><link rel=\"stylesheet\" as=\"style\" href=\"https://cdn.jsdelivr.net/gh/orioncactus/pretendard/dist/web/static/pretendard.css\"/><link rel=\"stylesheet\" as=\"style\" type=\"text/css\" href=\"/fonts/Campton/CamptonKit.css\"/><script type=\"text/javascript\" src=\"https://openapi.map.naver.com/openapi/v3/maps.js?ncpClientId=w2k39b8tqt\"></script><script async=\"\" src=\"https://www.googletagmanager.com/gtag/js?id=G-5EX7M5BF1J\"></script><script>\n",
      "              window.dataLayer = window.dataLayer || [];\n",
      "              function gtag(){dataLayer.push(arguments);}\n",
      "              gtag('js', new Date());\n",
      "\n",
      "              gtag('config', 'G-5EX7M5BF1J');\n",
      "            </script><link rel=\"preload\" href=\"/_next/static/css/8b136142696cb057.css\" as=\"style\"/><link rel=\"stylesheet\" href=\"/_next/static/css/8b136142696cb057.css\" data-n-g=\"\"/><link rel=\"preload\" href=\"/_next/static/css/e70b2b9b2948aa0c.css\" as=\"style\"/><link rel=\"stylesheet\" href=\"/_next/static/css/e70b2b9b2948aa0c.css\" data-n-p=\"\"/><link rel=\"preload\" href=\"/_next/static/css/fc0c8ebe1d29aca7.css\" as=\"style\"/><link rel=\"stylesheet\" href=\"/_next/static/css/fc0c8ebe1d29aca7.css\" data-n-p=\"\"/><noscript data-n-css=\"\"></noscript><script defer=\"\" nomodule=\"\" src=\"/_next/static/chunks/polyfills-5cd94c89d3acac5f.js\"></script><script src=\"/_next/static/chunks/webpack-434fefa8f39d8fbc.js\" defer=\"\"></script><script src=\"/_next/static/chunks/framework-5f4595e5518b5600.js\" defer=\"\"></script><script src=\"/_next/static/chunks/main-95ff2a5959bc7ead.js\" defer=\"\"></script><script src=\"/_next/static/chunks/pages/_app-ae995ab9e2fadde4.js\" defer=\"\"></script><script src=\"/_next/static/chunks/29107295-fbcfe2172188e46f.js\" defer=\"\"></script><script src=\"/_next/static/chunks/178-8dd7d8fe7ba32a44.js\" defer=\"\"></script><script src=\"/_next/static/chunks/351-084bdcd038aa72ab.js\" defer=\"\"></script><script src=\"/_next/static/chunks/326-26a854a9e2cc7dc1.js\" defer=\"\"></script><script src=\"/_next/static/chunks/749-73237d272b60f17f.js\" defer=\"\"></script><script src=\"/_next/static/chunks/pages/index-d8f7a00268ede3ed.js\" defer=\"\"></script><script src=\"/_next/static/hJH_NiX-vKju1bSSmVakS/_buildManifest.js\" defer=\"\"></script><script src=\"/_next/static/hJH_NiX-vKju1bSSmVakS/_ssgManifest.js\" defer=\"\"></script><script src=\"/_next/static/hJH_NiX-vKju1bSSmVakS/_middlewareManifest.js\" defer=\"\"></script><style data-styled=\"\" data-styled-version=\"5.3.5\">.kigRMD{position:fixed;width:100%;color:#ffffff;border-bottom:1px solid #F7F8FA;font-size:18px;z-index:9999;white-space:nowrap;}/*!sc*/\n",
      "data-styled.g43[id=\"sc-e91a46fd-0\"]{content:\"kigRMD,\"}/*!sc*/\n",
      ".wqzvN{-webkit-transition:-webkit-transform .5s ease-in-out 0s,border-bottom-color 0.5s ease-in-out 0s;-webkit-transition:transform .5s ease-in-out 0s,border-bottom-color 0.5s ease-in-out 0s;transition:transform .5s ease-in-out 0s,border-bottom-color 0.5s ease-in-out 0s;}/*!sc*/\n",
      ".wqzvN .navbar{display:-webkit-box;display:-webkit-flex;display:-ms-flexbox;display:flex;height:93px;-webkit-align-items:center;-webkit-box-align:center;-ms-flex-align:center;align-items:center;font-family:\"Campton\";-webkit-transform:translateY(0px);-ms-transform:translateY(0px);transform:translateY(0px);}/*!sc*/\n",
      ".wqzvN .navbar > ul{display:-webkit-box;display:-webkit-flex;display:-ms-flexbox;display:flex;-webkit-box-pack:justify;-webkit-justify-content:space-between;-ms-flex-pack:justify;justify-content:space-between;width:50%;line-height:160%;}/*!sc*/\n",
      ".wqzvN .navbar > ul li{cursor:pointer;text-align:center;}/*!sc*/\n",
      ".wqzvN .navbar > ul li:hover{-webkit-text-stroke-width:0.8px;}/*!sc*/\n",
      ".wqzvN .navbar .ulItems{-webkit-align-items:center;-webkit-box-align:center;-ms-flex-align:center;align-items:center;position:absolute;left:50%;top:100%;height:64px;}/*!sc*/\n",
      "@media (min-width:1194px) and (max-width:1550px){.wqzvN{font-size:1.1613vw;}}/*!sc*/\n",
      "data-styled.g44[id=\"sc-e91a46fd-1\"]{content:\"wqzvN,\"}/*!sc*/\n",
      ".bdSKRS{position:relative;display:inline-block;height:24px;width:125px;cursor:pointer;}/*!sc*/\n",
      "@media (min-width:1194px) and (max-width:1550px){.bdSKRS{width:128px;}}/*!sc*/\n",
      "data-styled.g46[id=\"sc-e91a46fd-3\"]{content:\"bdSKRS,\"}/*!sc*/\n",
      ".eiFlMj{width:100%;height:auto;padding-bottom:123px;font-size:18px;}/*!sc*/\n",
      ".eiFlMj .top{padding-bottom:36px;border-bottom:1px solid #646f7c;display:-webkit-box;display:-webkit-flex;display:-ms-flexbox;display:flex;-webkit-box-pack:justify;-webkit-justify-content:space-between;-ms-flex-pack:justify;justify-content:space-between;-webkit-align-items:center;-webkit-box-align:center;-ms-flex-align:center;align-items:center;}/*!sc*/\n",
      ".eiFlMj .bottom{padding-top:42px;}/*!sc*/\n",
      ".eiFlMj .copyright{margin-top:42px;font-family:\"Campton\",sans-serif;font-weight:500;}/*!sc*/\n",
      "@media (min-width:768px) and (max-width:1193px){.eiFlMj{font-size:1.563vw;padding-bottom:89px;}.eiFlMj .top{padding-bottom:3.125vw;}.eiFlMj .bottom{padding-top:3.125vw;}.eiFlMj .copyright{margin-top:3.125vw;}}/*!sc*/\n",
      "@media (max-width:767px){.eiFlMj{font-size:3.733vw;padding-bottom:60px;}.eiFlMj .top{padding-bottom:7.467vw;}.eiFlMj .bottom{padding-top:7.467vw;}.eiFlMj .copyright{margin-top:7.467vw;margin-bottom:7.467vw;}}/*!sc*/\n",
      "data-styled.g50[id=\"sc-3326bc44-0\"]{content:\"eiFlMj,\"}/*!sc*/\n",
      ".beNQNX{width:204px;display:-webkit-box;display:-webkit-flex;display:-ms-flexbox;display:flex;-webkit-box-pack:justify;-webkit-justify-content:space-between;-ms-flex-pack:justify;justify-content:space-between;}/*!sc*/\n",
      "@media (min-width:768px) and (max-width:1193px){.beNQNX{width:120px;}}/*!sc*/\n",
      "data-styled.g51[id=\"sc-3326bc44-1\"]{content:\"beNQNX,\"}/*!sc*/\n",
      ".gcPxRm{width:42px;height:42px;position:relative;background-color:#F7F8FA;border-radius:50%;display:-webkit-inline-box;display:-webkit-inline-flex;display:-ms-inline-flexbox;display:inline-flex;-webkit-align-items:center;-webkit-box-align:center;-ms-flex-align:center;align-items:center;-webkit-box-pack:center;-webkit-justify-content:center;-ms-flex-pack:center;justify-content:center;}/*!sc*/\n",
      ".gcPxRm:nth-last-child(1){margin-right:0;}/*!sc*/\n",
      "@media (min-width:768px) and (max-width:1193px){.gcPxRm{width:24px;height:24px;margin-right:8px;}}/*!sc*/\n",
      "@media (max-width:767px){.gcPxRm{width:32px;height:32px;margin-right:8px;}}/*!sc*/\n",
      "data-styled.g52[id=\"sc-3326bc44-2\"]{content:\"gcPxRm,\"}/*!sc*/\n",
      ".hWLzWH{display:-webkit-box;display:-webkit-flex;display:-ms-flexbox;display:flex;-webkit-box-pack:justify;-webkit-justify-content:space-between;-ms-flex-pack:justify;justify-content:space-between;-webkit-align-items:flex-start;-webkit-box-align:flex-start;-ms-flex-align:flex-start;align-items:flex-start;}/*!sc*/\n",
      "@media (max-width:767px){.hWLzWH{-webkit-flex-direction:column;-ms-flex-direction:column;flex-direction:column;}}/*!sc*/\n",
      ".hWLzWH .links{margin-bottom:1.4rem;}/*!sc*/\n",
      ".hWLzWH .links a{font-weight:600;position:relative;}/*!sc*/\n",
      ".hWLzWH .links a:nth-child(1),.hWLzWH .links a:nth-child(2),.hWLzWH .links a:nth-child(3),.hWLzWH .links a:nth-child(4){padding-right:1rem;}/*!sc*/\n",
      ".hWLzWH .links a:nth-child(1):after,.hWLzWH .links a:nth-child(2):after,.hWLzWH .links a:nth-child(3):after,.hWLzWH .links a:nth-child(4):after{content:\"\";width:2px;height:0.8em;background-color:#646F7C;position:absolute;top:50%;right:0;-webkit-transform:translateY(-50%);-ms-transform:translateY(-50%);transform:translateY(-50%);}/*!sc*/\n",
      ".hWLzWH .links a:nth-child(2),.hWLzWH .links a:nth-child(3),.hWLzWH .links a:nth-child(4),.hWLzWH .links a:nth-child(5){padding-left:1rem;}/*!sc*/\n",
      ".hWLzWH .links a:nth-child(3){padding-left:1rem;font-weight:bold;}/*!sc*/\n",
      "@media (max-width:767px){.hWLzWH .links-top{margin-bottom:0.6rem;}.hWLzWH .links-top a:nth-child(3)::after{content:none;}.hWLzWH .links-bottom a:nth-child(2)::after{content:none;}}/*!sc*/\n",
      ".hWLzWH .toggle{width:204px;position:relative;display:-webkit-box;display:-webkit-flex;display:-ms-flexbox;display:flex;-webkit-flex-direction:column;-ms-flex-direction:column;flex-direction:column;-webkit-box-pack:start;-webkit-justify-content:flex-start;-ms-flex-pack:start;justify-content:flex-start;}/*!sc*/\n",
      ".hWLzWH .toggle span{display:-webkit-inline-box;display:-webkit-inline-flex;display:-ms-inline-flexbox;display:inline-flex;-webkit-box-pack:start;-webkit-justify-content:flex-start;-ms-flex-pack:start;justify-content:flex-start;-webkit-align-items:center;-webkit-box-align:center;-ms-flex-align:center;align-items:center;cursor:pointer;font-weight:600;}/*!sc*/\n",
      ".hWLzWH .toggle span i{margin-right:8px;margin-left:6px;}/*!sc*/\n",
      "@media (min-width:768px) and (max-width:1193px){.hWLzWH .toggle{width:120px;}}/*!sc*/\n",
      "@media (max-width:767px){.hWLzWH .toggle{width:100%;margin-top:16px;}}/*!sc*/\n",
      "data-styled.g53[id=\"sc-3326bc44-3\"]{content:\"hWLzWH,\"}/*!sc*/\n",
      ".eNZmBR{position:relative;width:146px;display:inline-block;height:27px;}/*!sc*/\n",
      "@media (min-width:768px) and (max-width:1193px){.eNZmBR{width:9.115vw;height:1.693vw;}}/*!sc*/\n",
      "@media (max-width:767px){.eNZmBR{width:22.667vw;height:4.267vw;}}/*!sc*/\n",
      "data-styled.g55[id=\"sc-3326bc44-5\"]{content:\"eNZmBR,\"}/*!sc*/\n",
      "</style></head><body><div id=\"__next\" data-reactroot=\"\"><header class=\"sc-e91a46fd-0 sc-e91a46fd-1 kigRMD wqzvN\"><div class=\"container_1550\"><div class=\"navbar\"><div style=\"width:50%\"><span class=\"sc-e91a46fd-3 bdSKRS\"><a style=\"position:relative;display:inline-block;width:100%;height:100%\" href=\"/\"><span style=\"box-sizing:border-box;display:block;overflow:hidden;width:initial;height:initial;background:none;opacity:1;border:0;margin:0;padding:0;position:absolute;top:0;left:0;bottom:0;right:0\"><img src=\"data:image/gif;base64,R0lGODlhAQABAIAAAAAAAP///yH5BAEAAAAALAAAAAABAAEAAAIBRAA7\" decoding=\"async\" data-nimg=\"fill\" style=\"position:absolute;top:0;left:0;bottom:0;right:0;box-sizing:border-box;padding:0;border:none;margin:auto;display:block;width:0;height:0;min-width:100%;max-width:100%;min-height:100%;max-height:100%;object-fit:contain\"/><noscript><img sizes=\"100vw\" srcSet=\"/_next/static/media/logo_web_white.91ca57f2.svg 1280w, /_next/static/media/logo_web_white.91ca57f2.svg 1920w\" src=\"/_next/static/media/logo_web_white.91ca57f2.svg\" decoding=\"async\" data-nimg=\"fill\" style=\"position:absolute;top:0;left:0;bottom:0;right:0;box-sizing:border-box;padding:0;border:none;margin:auto;display:block;width:0;height:0;min-width:100%;max-width:100%;min-height:100%;max-height:100%;object-fit:contain\" loading=\"lazy\"/></noscript></span></a></span></div><ul><li>ABOUT</li><li>SOCAR UNIVERSE</li><li>MOBILITY TECH</li><li>CAREERS</li><li>IR</li><li>NEWS</li></ul></div></div></header><div></div><div style=\"background-color:undefined\"><div class=\"swiper Main_swiperContents__YtCSb\"><div class=\"swiper-wrapper\"><div class=\"swiper-slide Main_swiperContainer__Uby5g\"><video style=\"position:absolute;height:100vh;width:100vw;object-fit:cover\" autoplay=\"\" loop=\"\" muted=\"\" playsinline=\"\"><source src=\"video/main_video.mp4\" type=\"video/mp4\"/></video><section class=\"Main_content_top50__TImDt container_1550\"><figure class=\"Main_phraseMedium__iI9Jv\"><span>모든 사람이 자유롭고 행복하게 </span><span>이동하는 세상을 만듭니다</span></figure><div class=\"Main_arrow__XhiRf\"><div><span style=\"box-sizing:border-box;display:block;overflow:hidden;width:initial;height:initial;background:none;opacity:1;border:0;margin:0;padding:0;position:absolute;top:0;left:0;bottom:0;right:0\"><img src=\"data:image/gif;base64,R0lGODlhAQABAIAAAAAAAP///yH5BAEAAAAALAAAAAABAAEAAAIBRAA7\" decoding=\"async\" data-nimg=\"fill\" style=\"position:absolute;top:0;left:0;bottom:0;right:0;box-sizing:border-box;padding:0;border:none;margin:auto;display:block;width:0;height:0;min-width:100%;max-width:100%;min-height:100%;max-height:100%\"/><noscript><img sizes=\"100vw\" srcSet=\"/_next/static/media/scrollDown.76bc1872.svg 1280w, /_next/static/media/scrollDown.76bc1872.svg 1920w\" src=\"/_next/static/media/scrollDown.76bc1872.svg\" decoding=\"async\" data-nimg=\"fill\" style=\"position:absolute;top:0;left:0;bottom:0;right:0;box-sizing:border-box;padding:0;border:none;margin:auto;display:block;width:0;height:0;min-width:100%;max-width:100%;min-height:100%;max-height:100%\" loading=\"lazy\"/></noscript></span></div><span>scroll</span></div><div class=\"Main_empty__ZVpNK\"> </div></section></div><div class=\"swiper-slide Main_swiperContainer__Uby5g\" style=\"background-image:url(images/index/main_second.png)\"><section class=\"Main_content_top16__z6b0C container_1550\"><div class=\"Main_phrase__V1JNP\"><div class=\"Main_phraseMini__dpllc\"><h4>MOBILITY TECH</h4></div><figure class=\"Main_phraseLarge__zF6ob\"><div><span>기술과 데이터로</span><span>이동의 문제를 해결합니다</span></div></figure><button class=\"Main_linkButton__XupQp\"><span>MOBILITY TECH</span><div class=\"Main_rightArrow__8KbGs\"></div></button></div></section></div><div class=\"swiper-slide Main_swiperContainer__Uby5g\" style=\"background-image:url(images/index/main_third.png)\"><section class=\"Main_content_top16__z6b0C container_1550\"><div class=\"Main_phrase__V1JNP\"><div class=\"Main_phraseMini__dpllc\"><h4>SOCAR UNIVERSE</h4></div><figure class=\"Main_phraseLarge__zF6ob\"><div style=\"color:black\"><span>디지털 플랫폼을 중심으로</span><span>새로운 모빌리티 생태계를 만듭니다</span></div></figure><button class=\"Main_linkButton__Black__b1wXG\"><span>SOCAR UNIVERSE</span><div class=\"Main_rightArrow__8KbGs\"></div></button></div></section></div><div class=\"swiper-slide Main_swiperContainer__Uby5g\" style=\"background-image:url(images/index/main_fourth.png);background-position-x:20%\"><section class=\"Main_content_top16__z6b0C container_1550\"><div class=\"Main_phrase__V1JNP\"><div class=\"Main_phraseMini__dpllc\"><h4>CAREERS</h4></div><figure class=\"Main_phraseLarge__zF6ob\"><div style=\"color:black\"><span>쏘카다운 방식으로</span><span>모빌리티를 혁신합니다</span></div></figure><button class=\"Main_linkButton__Black__b1wXG\"><span>CAREERS</span><div class=\"Main_rightArrow__8KbGs\"></div></button></div></section></div></div></div><footer class=\"sc-3326bc44-0 eiFlMj\"><div class=\"container_1550\"><div class=\"top\"><span class=\"sc-3326bc44-5 eNZmBR\"><a style=\"position:relative;display:inline-block;width:100%;height:100%\" href=\"/\"><span style=\"box-sizing:border-box;display:block;overflow:hidden;width:initial;height:initial;background:none;opacity:1;border:0;margin:0;padding:0;position:absolute;top:0;left:0;bottom:0;right:0\"><img src=\"data:image/gif;base64,R0lGODlhAQABAIAAAAAAAP///yH5BAEAAAAALAAAAAABAAEAAAIBRAA7\" decoding=\"async\" data-nimg=\"fill\" style=\"position:absolute;top:0;left:0;bottom:0;right:0;box-sizing:border-box;padding:0;border:none;margin:auto;display:block;width:0;height:0;min-width:100%;max-width:100%;min-height:100%;max-height:100%;object-fit:contain\"/><noscript><img sizes=\"100vw\" srcSet=\"/_next/static/media/logo_web_gray.e951fd39.svg 1280w, /_next/static/media/logo_web_gray.e951fd39.svg 1920w\" src=\"/_next/static/media/logo_web_gray.e951fd39.svg\" decoding=\"async\" data-nimg=\"fill\" style=\"position:absolute;top:0;left:0;bottom:0;right:0;box-sizing:border-box;padding:0;border:none;margin:auto;display:block;width:0;height:0;min-width:100%;max-width:100%;min-height:100%;max-height:100%;object-fit:contain\" loading=\"lazy\"/></noscript></span></a></span><div class=\"sc-3326bc44-1 beNQNX\"><a href=\"https://www.instagram.com/socar.kr/\" rel=\"noreferrer\" target=\"_blank\" class=\"sc-3326bc44-2 gcPxRm\"><i class=\"icon_instagram\"></i></a><a href=\"https://www.facebook.com/socar.kr/\" rel=\"noreferrer\" target=\"_blank\" class=\"sc-3326bc44-2 gcPxRm\"><i class=\"icon_facebook\"></i></a><a href=\"https://www.youtube.com/channel/UCsNtu0KJ3SJfs1zcQj8xEYQ\" rel=\"noreferrer\" target=\"_blank\" class=\"sc-3326bc44-2 gcPxRm\"><i class=\"icon_youtube\"></i></a><a href=\"https://blog.socar.kr/\" rel=\"noreferrer\" target=\"_blank\" class=\"sc-3326bc44-2 gcPxRm\"><i class=\"icon_blog\"></i></a></div></div><div class=\"bottom\"><div class=\"sc-3326bc44-3 hWLzWH\"><span class=\"links\"><a href=\"/ask\">문의하기</a><a href=\"/location\">오시는 길</a><a href=\"/privacy_policy\">개인정보처리방침</a><a href=\"/code_of_ethics\">쏘카 윤리강령</a><a href=\"/business_ethics_report\">기업윤리 신고·제보</a><p class=\"copyright\">© <!-- -->2023<!-- --> SOCAR All rights reserved.</p></span><div class=\"toggle\"><span>관련 사이트 <i class=\"icon_arrowDown\"></i></span></div></div></div></div></footer></div></div><script id=\"__NEXT_DATA__\" type=\"application/json\">{\"props\":{\"pageProps\":{}},\"page\":\"/\",\"query\":{},\"buildId\":\"hJH_NiX-vKju1bSSmVakS\",\"nextExport\":true,\"autoExport\":true,\"isFallback\":false,\"scriptLoader\":[]}</script></body></html>\n"
     ]
    }
   ],
   "source": [
    "# 여러분이 자주 사용하는 사이트의 robots를 동일한 방법으로 확인해보세요.\n",
    "# requests 모듈을 불러온 후, 다음 웹사이트에 대한 robots.txt 정책을 확인해봅시다.\n",
    "# https://www.naver.com\n",
    "import requests\n",
    "res=requests.get(\"https://www.socarcorp.kr/careers/jobs/robots.txt\")\n",
    "print(res.text)"
   ]
  }
 ],
 "metadata": {
  "kernelspec": {
   "display_name": "Python 3 (ipykernel)",
   "language": "python",
   "name": "python3"
  },
  "language_info": {
   "codemirror_mode": {
    "name": "ipython",
    "version": 3
   },
   "file_extension": ".py",
   "mimetype": "text/x-python",
   "name": "python",
   "nbconvert_exporter": "python",
   "pygments_lexer": "ipython3",
   "version": "3.9.6"
  }
 },
 "nbformat": 4,
 "nbformat_minor": 5
}
