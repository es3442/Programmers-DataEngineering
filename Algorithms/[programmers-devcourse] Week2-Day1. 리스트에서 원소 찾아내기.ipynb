{
  "metadata": {
    "kernelspec": {
      "name": "python",
      "display_name": "Python (Pyodide)",
      "language": "python"
    },
    "language_info": {
      "codemirror_mode": {
        "name": "python",
        "version": 3
      },
      "file_extension": ".py",
      "mimetype": "text/x-python",
      "name": "python",
      "nbconvert_exporter": "python",
      "pygments_lexer": "ipython3",
      "version": "3.8"
    }
  },
  "nbformat_minor": 5,
  "nbformat": 4,
  "cells": [
    {
      "cell_type": "markdown",
      "source": "# [Week2] Day1. 리스트에서 원소 찾아내기",
      "metadata": {},
      "id": "36654fae-4b2b-4c1a-83ed-474d4d6509a2"
    },
    {
      "cell_type": "markdown",
      "source": "#### Step1. L.index(value) 이용하여 해당 값이 존재하는 인덱스 탐색(없으면 -1반환)\n#### Step2. 앞에서 찾은 인덱스 이후부터 리스트 탑색",
      "metadata": {},
      "id": "64a886a7-59a4-4c5c-b1f4-a55c9e756f34"
    },
    {
      "cell_type": "code",
      "source": "def solution(L, x):\n    answer = []\n    index=0\n    while index<len(L):\n        if x not in L[index:]:\n            break\n        else:\n            now_index=L[index:].index(x)\n            answer.append(index+now_index)\n            index+=(now_index+1)\n    if len(answer)==0:\n        answer=[-1]\n    return answer",
      "metadata": {},
      "execution_count": null,
      "outputs": [],
      "id": "d60567a3-a30f-47b4-ad9b-8ec40853f4cb"
    }
  ]
}
