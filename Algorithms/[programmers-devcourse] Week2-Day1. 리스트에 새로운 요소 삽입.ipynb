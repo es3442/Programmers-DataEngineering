{
  "metadata": {
    "kernelspec": {
      "name": "python",
      "display_name": "Python (Pyodide)",
      "language": "python"
    },
    "language_info": {
      "codemirror_mode": {
        "name": "python",
        "version": 3
      },
      "file_extension": ".py",
      "mimetype": "text/x-python",
      "name": "python",
      "nbconvert_exporter": "python",
      "pygments_lexer": "ipython3",
      "version": "3.8"
    }
  },
  "nbformat_minor": 5,
  "nbformat": 4,
  "cells": [
    {
      "cell_type": "markdown",
      "source": "# [Week2] Day1. 리스트에 새로운 요소 삽입",
      "metadata": {},
      "id": "36654fae-4b2b-4c1a-83ed-474d4d6509a2"
    },
    {
      "cell_type": "markdown",
      "source": "#### Step1. 올바른 위치를 찾아서 삽입 insert(index, value)\n#### Step2. 리스트가 정렬되어 있으므로 선형탐색 이용",
      "metadata": {},
      "id": "64a886a7-59a4-4c5c-b1f4-a55c9e756f34"
    },
    {
      "cell_type": "code",
      "source": "def solution(L, x):\n    if x>L[-1]:\n        L.insert(len(L), x)\n    else:\n        for index, value in enumerate(L):\n            if value<x:\n                continue\n            else:\n                L.insert(index, x)\n                break\n    return L",
      "metadata": {},
      "execution_count": null,
      "outputs": [],
      "id": "d60567a3-a30f-47b4-ad9b-8ec40853f4cb"
    }
  ]
}
