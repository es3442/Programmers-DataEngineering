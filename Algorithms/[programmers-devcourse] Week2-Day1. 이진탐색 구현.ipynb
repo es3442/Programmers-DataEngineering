{
  "metadata": {
    "kernelspec": {
      "name": "python",
      "display_name": "Python (Pyodide)",
      "language": "python"
    },
    "language_info": {
      "codemirror_mode": {
        "name": "python",
        "version": 3
      },
      "file_extension": ".py",
      "mimetype": "text/x-python",
      "name": "python",
      "nbconvert_exporter": "python",
      "pygments_lexer": "ipython3",
      "version": "3.8"
    }
  },
  "nbformat_minor": 5,
  "nbformat": 4,
  "cells": [
    {
      "cell_type": "markdown",
      "source": "# [Week2] Day1. 이진탐색 구현",
      "metadata": {},
      "id": "36654fae-4b2b-4c1a-83ed-474d4d6509a2"
    },
    {
      "cell_type": "markdown",
      "source": "## 1. 반복문으로 구현",
      "metadata": {},
      "id": "77bb162e-e3ba-47c2-8b74-714bcbdf0e3d"
    },
    {
      "cell_type": "markdown",
      "source": "#### Step1. 변수 선언\n##### lower : 맨 앞의 인덱스(제일 작은 값의 인덱스)\n##### upper : 맨 뒤의 인덱스(제일 큰 값의 인덱스)\n##### middle : (lower+upper)//2\n#### Step2. middle 인덱스의 값과 탐색하려는 값 비교\n##### lower=middle+1 : 탐색하려는 값보다 작은 경우\n##### upper=middle-1 : 탐색하려는 값보다 큰 경우\n##### return middle : 탐색하려는 값과 같은 경우",
      "metadata": {},
      "id": "64a886a7-59a4-4c5c-b1f4-a55c9e756f34"
    },
    {
      "cell_type": "code",
      "source": "def solution(L, x):\n    answer=-1\n    lower=0\n    upper=len(L)-1\n    while lower<=upper:\n        middle=(lower+upper)//2\n        if L[middle]==x:\n            answer=middle\n            break\n        elif L[middle]<x:\n            lower=middle+1\n        else:\n            upper=middle-1\n\n    return answer",
      "metadata": {},
      "execution_count": null,
      "outputs": [],
      "id": "d60567a3-a30f-47b4-ad9b-8ec40853f4cb"
    },
    {
      "cell_type": "markdown",
      "source": "## 2. 재귀함수로 구현",
      "metadata": {},
      "id": "76379e33-2775-4e59-b19b-796b152de0a8"
    },
    {
      "cell_type": "markdown",
      "source": "#### Step1. 변수 선언\n##### l : 탐색 시작 위치를 나타내는 인덱스\n##### u : 탐색 끝의 위치를 나타내는 인덱스\n##### mid : (lower+upper)//2\n#### Step2. middle 인덱스의 값과 탐색하려는 값 비교\n##### l=mid+1 : 탐색하려는 값보다 작은 경우\n##### upper=mid-1 : 탐색하려는 값보다 큰 경우\n##### return mid : 탐색하려는 값과 같은 경우",
      "metadata": {},
      "id": "c0069770-9c44-43a8-9f84-59ab8ff40ad7"
    },
    {
      "cell_type": "code",
      "source": "def solution(L, x, l, u):\n    if l>u:\n        return -1\n    mid = (l + u) // 2\n    if x == L[mid]:\n        return mid\n    elif x < L[mid]:\n        return solution(L, x, l, mid-1)\n    else:\n        return solution(L, x, mid+1, u)",
      "metadata": {},
      "execution_count": null,
      "outputs": [],
      "id": "bbf8f517-b8cc-4bee-a124-4ec7e53f4204"
    }
  ]
}
