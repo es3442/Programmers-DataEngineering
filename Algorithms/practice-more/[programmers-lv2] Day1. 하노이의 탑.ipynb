{
  "metadata": {
    "kernelspec": {
      "name": "python",
      "display_name": "Python (Pyodide)",
      "language": "python"
    },
    "language_info": {
      "codemirror_mode": {
        "name": "python",
        "version": 3
      },
      "file_extension": ".py",
      "mimetype": "text/x-python",
      "name": "python",
      "nbconvert_exporter": "python",
      "pygments_lexer": "ipython3",
      "version": "3.8"
    }
  },
  "nbformat_minor": 5,
  "nbformat": 4,
  "cells": [
    {
      "cell_type": "markdown",
      "source": "# [Programmers-Lv2] Day1. 하노이의 탑.ipnb",
      "metadata": {},
      "id": "36654fae-4b2b-4c1a-83ed-474d4d6509a2"
    },
    {
      "cell_type": "markdown",
      "source": "## 1. 재귀함수로 구현",
      "metadata": {},
      "id": "2e3e700a-418a-4974-bb60-1272c30c590f"
    },
    {
      "cell_type": "markdown",
      "source": "#### Step1. 블럭(n-1개)는 모두 2(temp)에 옮겨야 함\n#### Step2. 맨 밑의 블럭을 3(target)에 이동\n#### Step3. 2(temp)에 있는 블럭들 모두 3(target)으로 이동",
      "metadata": {},
      "id": "64a886a7-59a4-4c5c-b1f4-a55c9e756f34"
    },
    {
      "cell_type": "code",
      "source": "def Hanoi(n, start, end):\n    temp=6-start-end\n    if n==1:\n        return [[start, end]]\n    else:\n        return Hanoi(n-1, start, temp)+[[start, end]]+Hanoi(n-1, temp, end)\n\ndef solution(n):\n    return Hanoi(n, 1, 3)",
      "metadata": {},
      "execution_count": null,
      "outputs": [],
      "id": "d60567a3-a30f-47b4-ad9b-8ec40853f4cb"
    }
  ]
}