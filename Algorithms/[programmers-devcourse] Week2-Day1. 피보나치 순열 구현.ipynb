{
  "metadata": {
    "kernelspec": {
      "name": "python",
      "display_name": "Python (Pyodide)",
      "language": "python"
    },
    "language_info": {
      "codemirror_mode": {
        "name": "python",
        "version": 3
      },
      "file_extension": ".py",
      "mimetype": "text/x-python",
      "name": "python",
      "nbconvert_exporter": "python",
      "pygments_lexer": "ipython3",
      "version": "3.8"
    }
  },
  "nbformat_minor": 5,
  "nbformat": 4,
  "cells": [
    {
      "cell_type": "markdown",
      "source": "# [Week2] Day1. 피보나치 순열 구현",
      "metadata": {},
      "id": "36654fae-4b2b-4c1a-83ed-474d4d6509a2"
    },
    {
      "cell_type": "markdown",
      "source": "## 1. 반복문으로 구현",
      "metadata": {},
      "id": "77bb162e-e3ba-47c2-8b74-714bcbdf0e3d"
    },
    {
      "cell_type": "markdown",
      "source": "#### Step1. 순열의 3번째값부터 순차적으로 연산",
      "metadata": {},
      "id": "64a886a7-59a4-4c5c-b1f4-a55c9e756f34"
    },
    {
      "cell_type": "code",
      "source": "def solution(x):\n    last_2=0\n    last_1=1\n    if x==0:\n        return 0\n    answer=0\n    for i in range(2, x+1):\n        answer=last_2+last_1\n        last_2, last_1=last_1,answer \n    return answer",
      "metadata": {},
      "execution_count": null,
      "outputs": [],
      "id": "f2af2bc8-a07d-4253-adaf-e3d30511e687"
    },
    {
      "cell_type": "markdown",
      "source": "## 2. 재귀함수로 구현",
      "metadata": {},
      "id": "76379e33-2775-4e59-b19b-796b152de0a8"
    },
    {
      "cell_type": "markdown",
      "source": "#### Step1. 순열을 해당 인덱스의 -1, -2번째 순열의 합으로 계산",
      "metadata": {},
      "id": "c0069770-9c44-43a8-9f84-59ab8ff40ad7"
    },
    {
      "cell_type": "code",
      "source": "def fibonacci(x):\n    if x==0:\n        return 0\n    if x==1:\n        return 1\n    return fibonacci(x-1)+fibonacci(x-2)\ndef solution(x):\n    return fibonacci(x)",
      "metadata": {},
      "execution_count": null,
      "outputs": [],
      "id": "bbf8f517-b8cc-4bee-a124-4ec7e53f4204"
    }
  ]
}
